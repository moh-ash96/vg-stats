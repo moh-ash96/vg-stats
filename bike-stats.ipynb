{
 "cells": [
  {
   "cell_type": "markdown",
   "id": "576e4543-5ce2-4450-9d8c-1d8a47b0279e",
   "metadata": {},
   "source": [
    "# Bike-Stats\n",
    "## Name:\n",
    "### Mohammad Ashour\n",
    "\n",
    "## Date:\n",
    "### 25-05-2021"
   ]
  },
  {
   "cell_type": "code",
   "execution_count": 1,
   "id": "8d656072-e2e0-4837-87ef-dbd8796cc058",
   "metadata": {},
   "outputs": [],
   "source": [
    "import pandas as pd"
   ]
  },
  {
   "cell_type": "code",
   "execution_count": 2,
   "id": "c3300270-da8d-4863-bf88-5fc7e3232b75",
   "metadata": {},
   "outputs": [
    {
     "name": "stderr",
     "output_type": "stream",
     "text": [
      "b'Skipping line 50794: expected 12 fields, saw 20\\n'\n"
     ]
    }
   ],
   "source": [
    "dftr = pd.read_csv('./trip.csv', error_bad_lines=False)\n",
    "dfwe = pd.read_csv('./weather.csv')\n",
    "dfstat = pd.read_csv('./station.csv')"
   ]
  },
  {
   "cell_type": "markdown",
   "id": "52b17c43-8b4a-4969-8226-a7c96747b007",
   "metadata": {},
   "source": [
    "## 1. What is the average trip duration for a borrowed bicycle?"
   ]
  },
  {
   "cell_type": "code",
   "execution_count": 3,
   "id": "2c1c38d8-154d-42f4-a2d8-d006f8521c7d",
   "metadata": {},
   "outputs": [
    {
     "data": {
      "text/plain": [
       "1178.2956753399776"
      ]
     },
     "execution_count": 3,
     "metadata": {},
     "output_type": "execute_result"
    }
   ],
   "source": [
    "deuration = dftr['tripduration']\n",
    "deuration.mean()"
   ]
  },
  {
   "cell_type": "markdown",
   "id": "1ad3430a-8113-41af-b1b4-2eef0a705be7",
   "metadata": {},
   "source": [
    "## 2. What’s the most common age of a bicycle-sharer?"
   ]
  },
  {
   "cell_type": "code",
   "execution_count": 4,
   "id": "e2c32407-65b1-49b8-8f3b-9134c0722d36",
   "metadata": {},
   "outputs": [
    {
     "data": {
      "text/plain": [
       "0    34.0\n",
       "dtype: float64"
      ]
     },
     "execution_count": 4,
     "metadata": {},
     "output_type": "execute_result"
    }
   ],
   "source": [
    "year = dftr['birthyear'].mode()\n",
    "age = 2021 - year\n",
    "age"
   ]
  },
  {
   "cell_type": "markdown",
   "id": "c587ce94-bf65-4bd1-a999-3100c46e8344",
   "metadata": {},
   "source": [
    "## 3. Given all the weather data here, find the average precipitation per month, and the median precipitation."
   ]
  },
  {
   "cell_type": "code",
   "execution_count": 5,
   "id": "ff8698c5-2466-4355-af04-dc676627ad0e",
   "metadata": {},
   "outputs": [
    {
     "data": {
      "text/plain": [
       "Month\n",
       "1     0.143548\n",
       "2     0.168421\n",
       "3     0.156935\n",
       "4     0.051333\n",
       "5     0.012419\n",
       "6     0.030500\n",
       "7     0.012097\n",
       "8     0.018226\n",
       "9     0.041000\n",
       "10    0.189000\n",
       "11    0.187833\n",
       "12    0.236290\n",
       "Name: Precipitation_In, dtype: float64"
      ]
     },
     "execution_count": 5,
     "metadata": {},
     "output_type": "execute_result"
    }
   ],
   "source": [
    "def get_month(date_str):\n",
    "    return int(date_str.split('/')[0])\n",
    "dfwe['Month']=dfwe['Date'].apply(get_month)\n",
    "\n",
    "average_pre = dfwe.groupby('Month')['Precipitation_In'].mean()\n",
    "average_pre"
   ]
  },
  {
   "cell_type": "code",
   "execution_count": 6,
   "id": "8c729b9c-0d3f-493b-8a0d-d93672699c6e",
   "metadata": {},
   "outputs": [
    {
     "data": {
      "text/plain": [
       "Month\n",
       "1     0.020\n",
       "2     0.040\n",
       "3     0.025\n",
       "4     0.000\n",
       "5     0.000\n",
       "6     0.000\n",
       "7     0.000\n",
       "8     0.000\n",
       "9     0.000\n",
       "10    0.040\n",
       "11    0.035\n",
       "12    0.100\n",
       "Name: Precipitation_In, dtype: float64"
      ]
     },
     "execution_count": 6,
     "metadata": {},
     "output_type": "execute_result"
    }
   ],
   "source": [
    "median_pre = dfwe.groupby('Month')['Precipitation_In'].median()\n",
    "median_pre"
   ]
  },
  {
   "cell_type": "markdown",
   "id": "5388c236-6e01-464a-8781-0743dcfd1f3c",
   "metadata": {},
   "source": [
    "## 4. What’s the average number of bikes at a given bike station?"
   ]
  },
  {
   "cell_type": "code",
   "execution_count": 7,
   "id": "5b71aa7f-8a37-433f-a05f-8359a1d2e53c",
   "metadata": {},
   "outputs": [
    {
     "data": {
      "text/plain": [
       "17.74074074074074"
      ]
     },
     "execution_count": 7,
     "metadata": {},
     "output_type": "execute_result"
    }
   ],
   "source": [
    "available = dfstat[dfstat['decommission_date'].isnull()]\n",
    "count = available['current_dockcount'].mean()\n",
    "count"
   ]
  },
  {
   "cell_type": "markdown",
   "id": "1886a1f4-d425-4b9d-92e3-c34b50d07260",
   "metadata": {},
   "source": [
    "## 5. When a bike station is modified, is it more likely that it’ll lose bikes or gain bikes? How do you know?"
   ]
  },
  {
   "cell_type": "code",
   "execution_count": 8,
   "id": "40f727d7-c48e-47c0-953f-f8f28479eb36",
   "metadata": {},
   "outputs": [
    {
     "data": {
      "text/plain": [
       "'The station will lose bikes of about 1 bike(s) '"
      ]
     },
     "execution_count": 8,
     "metadata": {},
     "output_type": "execute_result"
    }
   ],
   "source": [
    "dfstat[['install_dockcount', 'install_date', 'modification_date', 'current_dockcount']]\n",
    "inscount = dfstat['install_dockcount'].mean()\n",
    "inscount\n",
    "currentcou = dfstat['current_dockcount'].mean()\n",
    "currentcou\n",
    "diff =  currentcou - inscount\n",
    "num = int(abs(diff))\n",
    "def result():\n",
    "    if diff > 0:\n",
    "        return f'The station will gain bikes of about {num} bike(s) '\n",
    "    elif diff < 0:\n",
    "        return f'The station will lose bikes of about {num} bike(s) '\n",
    "result()"
   ]
  },
  {
   "cell_type": "markdown",
   "id": "4121aea3-6661-4aba-ac4c-2f7eff76cb96",
   "metadata": {},
   "source": [
    "## 6. Give me a list of station names"
   ]
  },
  {
   "cell_type": "code",
   "execution_count": 9,
   "id": "f2f209b2-eae4-452a-abfc-d6792be9e44a",
   "metadata": {},
   "outputs": [
    {
     "data": {
      "text/plain": [
       "0                                    3rd Ave & Broad St\n",
       "1                                     2nd Ave & Vine St\n",
       "2                                6th Ave & Blanchard St\n",
       "3                                2nd Ave & Blanchard St\n",
       "4                                    7th Ave & Union St\n",
       "5                                    Union St & 4th Ave\n",
       "6                                   1st Ave & Marion St\n",
       "7                                   2nd Ave & Spring St\n",
       "8                        City Hall / 4th Ave & James St\n",
       "9                                     2nd Ave & Pine St\n",
       "10                              12th Ave & E Yesler Way\n",
       "11                             Summit Ave & E Denny Way\n",
       "12                       E Harrison St & Broadway Ave E\n",
       "13                       Summit Ave E & E Republican St\n",
       "14                             15th Ave E & E Thomas St\n",
       "15                               12th Ave & E Denny Way\n",
       "16                                 E Pine St & 16th Ave\n",
       "17               Cal Anderson Park / 11th Ave & Pine St\n",
       "18                              Harvard Ave & E Pine St\n",
       "19                             Bellevue Ave & E Pine St\n",
       "20                               12th Ave & E Mercer St\n",
       "21                                9th Ave N & Mercer St\n",
       "22    Children's Hospital / Sandpoint Way NE & 40th ...\n",
       "23    Fred Hutchinson Cancer Research Center / Fairv...\n",
       "24                         E Blaine St & Fairview Ave E\n",
       "25                        Eastlake Ave E & E Allison St\n",
       "26            Frye Art Museum / Terry Ave & Columbia St\n",
       "27        Seattle University / E Columbia St & 12th Ave\n",
       "28                                6th Ave S & S King St\n",
       "29    Occidental Park / Occidental Ave S & S Washing...\n",
       "30    King Street Station Plaza / 2nd Ave Extension ...\n",
       "31                           REI / Yale Ave N & John St\n",
       "32                              Dexter Ave N & Aloha St\n",
       "33                       Republican St & Westlake Ave N\n",
       "34                        PATH / 9th Ave & Westlake Ave\n",
       "35                               Westlake Ave & 6th Ave\n",
       "36                                    Pine St & 9th Ave\n",
       "37            Lake Union Park / Valley St & Boren Ave N\n",
       "38                               Dexter Ave & Denny Way\n",
       "39                  Key Arena / 1st Ave N & Harrison St\n",
       "40                               Terry Ave & Stewart St\n",
       "41                                Mercer St & 9th Ave N\n",
       "42    Burke-Gilman Trail / NE Blakeley St & 24th Ave NE\n",
       "43                       NE 42nd St & University Way NE\n",
       "44                            12th Ave & NE Campus Pkwy\n",
       "45                             NE 47th St & 12th Ave NE\n",
       "46                         UW McCarty Hall / Whitman Ct\n",
       "47    Burke Museum / E Stevens Way NE & Memorial Way NE\n",
       "48                             15th Ave NE & NE 40th St\n",
       "49    UW Engineering Library / E Stevens Way NE & Je...\n",
       "50                    UW Intramural Activities Building\n",
       "51    UW Magnuson Health Sciences Center Rotunda / C...\n",
       "52                      Pier 69 / Alaskan Way & Clay St\n",
       "53    Seattle Aquarium / Alaskan Way S & Elliott Bay...\n",
       "54                             Broadway and E Denny Way\n",
       "55                                Thomas St & 5th Ave N\n",
       "56                      NE Pacific St/UW Medical Center\n",
       "57                      Pier 66 / Alaskan Way & Bell St\n",
       "Name: name, dtype: object"
      ]
     },
     "execution_count": 9,
     "metadata": {},
     "output_type": "execute_result"
    }
   ],
   "source": [
    "names = dfstat['name']\n",
    "names"
   ]
  },
  {
   "cell_type": "markdown",
   "id": "ac25f7a4-1ffa-4331-9817-9463df1234f7",
   "metadata": {},
   "source": [
    "## 7. How many male bike riders?"
   ]
  },
  {
   "cell_type": "code",
   "execution_count": 10,
   "id": "f6adc505-8951-4a6b-aa3c-9f7c4f7536d9",
   "metadata": {},
   "outputs": [
    {
     "data": {
      "text/plain": [
       "140564"
      ]
     },
     "execution_count": 10,
     "metadata": {},
     "output_type": "execute_result"
    }
   ],
   "source": [
    "males = dftr[dftr['gender'] == 'Male']['gender'].count()\n",
    "males"
   ]
  },
  {
   "cell_type": "markdown",
   "id": "349fa48e-26db-4d43-ac8e-356d0f5c8040",
   "metadata": {},
   "source": [
    "## 8. Which is more, members or holders?"
   ]
  },
  {
   "cell_type": "code",
   "execution_count": 11,
   "id": "7cb8c220-84ac-471e-a628-5217832d296b",
   "metadata": {},
   "outputs": [
    {
     "data": {
      "text/plain": [
       "'Members'"
      ]
     },
     "execution_count": 11,
     "metadata": {},
     "output_type": "execute_result"
    }
   ],
   "source": [
    "members = dftr[dftr['usertype'] == 'Member']['usertype'].count()\n",
    "holders = dftr[dftr['usertype'] == 'Holder']['usertype'].count()\n",
    "def more(mem, hold):\n",
    "    if mem > hold:\n",
    "        return 'Members'\n",
    "    else:\n",
    "        return 'Holders'\n",
    "more(members, holders)"
   ]
  },
  {
   "cell_type": "code",
   "execution_count": null,
   "id": "b7f2da02-cc1d-45ec-918e-961a7e18106c",
   "metadata": {},
   "outputs": [],
   "source": []
  }
 ],
 "metadata": {
  "kernelspec": {
   "display_name": "Python 3",
   "language": "python",
   "name": "python3"
  },
  "language_info": {
   "codemirror_mode": {
    "name": "ipython",
    "version": 3
   },
   "file_extension": ".py",
   "mimetype": "text/x-python",
   "name": "python",
   "nbconvert_exporter": "python",
   "pygments_lexer": "ipython3",
   "version": "3.9.4"
  }
 },
 "nbformat": 4,
 "nbformat_minor": 5
}
