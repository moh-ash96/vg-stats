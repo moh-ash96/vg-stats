{
 "cells": [
  {
   "cell_type": "markdown",
   "id": "aa45db01-4b4f-48e2-b961-ad0ae33539f4",
   "metadata": {},
   "source": [
    "# Vg-Stats\n",
    "## Name:\n",
    "Mohammad Ashour\n",
    "\n",
    "## Date:\n",
    "24-05-2021"
   ]
  },
  {
   "cell_type": "code",
   "execution_count": 1,
   "id": "5eaeb8b3-031b-4d56-a4a5-81d4803defb5",
   "metadata": {},
   "outputs": [],
   "source": [
    "import pandas as pd\n",
    "import numpy as np"
   ]
  },
  {
   "cell_type": "code",
   "execution_count": 2,
   "id": "de54a193-c02e-4a15-9e04-32c9275b1ef2",
   "metadata": {},
   "outputs": [
    {
     "name": "stdout",
     "output_type": "stream",
     "text": [
      "<class 'pandas.core.frame.DataFrame'>\n",
      "RangeIndex: 16598 entries, 0 to 16597\n",
      "Data columns (total 11 columns):\n",
      " #   Column        Non-Null Count  Dtype  \n",
      "---  ------        --------------  -----  \n",
      " 0   Rank          16598 non-null  int64  \n",
      " 1   Name          16598 non-null  object \n",
      " 2   Platform      16598 non-null  object \n",
      " 3   Year          16327 non-null  float64\n",
      " 4   Genre         16598 non-null  object \n",
      " 5   Publisher     16540 non-null  object \n",
      " 6   NA_Sales      16598 non-null  float64\n",
      " 7   EU_Sales      16598 non-null  float64\n",
      " 8   JP_Sales      16598 non-null  float64\n",
      " 9   Other_Sales   16598 non-null  float64\n",
      " 10  Global_Sales  16598 non-null  float64\n",
      "dtypes: float64(6), int64(1), object(4)\n",
      "memory usage: 1.4+ MB\n"
     ]
    }
   ],
   "source": [
    "df = pd.read_csv('./vgsales.csv')\n",
    "df.info()"
   ]
  },
  {
   "cell_type": "markdown",
   "id": "d0d83a9c-52f6-474d-8697-5311169d88ee",
   "metadata": {},
   "source": [
    "## 1. Which company is the most common video game publisher?\n"
   ]
  },
  {
   "cell_type": "code",
   "execution_count": 3,
   "id": "9f0a9110-495c-4a62-b150-0f04ffe15c38",
   "metadata": {},
   "outputs": [
    {
     "data": {
      "text/plain": [
       "'Electronic Arts'"
      ]
     },
     "execution_count": 3,
     "metadata": {},
     "output_type": "execute_result"
    }
   ],
   "source": [
    "dfPub = df['Publisher'].value_counts().idxmax()\n",
    "dfPub"
   ]
  },
  {
   "cell_type": "markdown",
   "id": "3d69ed2d-e2ce-4bbd-a25d-8a4820c25a24",
   "metadata": {},
   "source": [
    "## 2. What's the most common platform?"
   ]
  },
  {
   "cell_type": "code",
   "execution_count": 4,
   "id": "36b315ff-19d8-431b-9207-260b9ab132fb",
   "metadata": {},
   "outputs": [
    {
     "data": {
      "text/plain": [
       "'DS'"
      ]
     },
     "execution_count": 4,
     "metadata": {},
     "output_type": "execute_result"
    }
   ],
   "source": [
    "most_platform = df['Platform'].value_counts().idxmax()\n",
    "most_platform"
   ]
  },
  {
   "cell_type": "markdown",
   "id": "29d3b27e-99a4-4f4f-b868-ce7ca7a7985d",
   "metadata": {},
   "source": [
    "## 3. What's the most common genre?"
   ]
  },
  {
   "cell_type": "code",
   "execution_count": 5,
   "id": "ee20adb1-bc17-48c5-840b-5b275bb0043b",
   "metadata": {},
   "outputs": [
    {
     "data": {
      "text/plain": [
       "'Action'"
      ]
     },
     "execution_count": 5,
     "metadata": {},
     "output_type": "execute_result"
    }
   ],
   "source": [
    "most_genre = df['Genre'].value_counts().idxmax()\n",
    "most_genre"
   ]
  },
  {
   "cell_type": "markdown",
   "id": "409e56c9-ba61-4224-bc1f-7b92e760c3e6",
   "metadata": {},
   "source": [
    "## 4. What are the top 20 highest grossing games?"
   ]
  },
  {
   "cell_type": "code",
   "execution_count": 6,
   "id": "4b21129a-a924-49eb-a660-1391dfb205ca",
   "metadata": {},
   "outputs": [
    {
     "data": {
      "text/html": [
       "<div>\n",
       "<style scoped>\n",
       "    .dataframe tbody tr th:only-of-type {\n",
       "        vertical-align: middle;\n",
       "    }\n",
       "\n",
       "    .dataframe tbody tr th {\n",
       "        vertical-align: top;\n",
       "    }\n",
       "\n",
       "    .dataframe thead th {\n",
       "        text-align: right;\n",
       "    }\n",
       "</style>\n",
       "<table border=\"1\" class=\"dataframe\">\n",
       "  <thead>\n",
       "    <tr style=\"text-align: right;\">\n",
       "      <th></th>\n",
       "      <th>Rank</th>\n",
       "      <th>Name</th>\n",
       "      <th>Platform</th>\n",
       "      <th>Year</th>\n",
       "      <th>Global_Sales</th>\n",
       "    </tr>\n",
       "  </thead>\n",
       "  <tbody>\n",
       "    <tr>\n",
       "      <th>0</th>\n",
       "      <td>1</td>\n",
       "      <td>Wii Sports</td>\n",
       "      <td>Wii</td>\n",
       "      <td>2006.0</td>\n",
       "      <td>82.74</td>\n",
       "    </tr>\n",
       "    <tr>\n",
       "      <th>1</th>\n",
       "      <td>2</td>\n",
       "      <td>Super Mario Bros.</td>\n",
       "      <td>NES</td>\n",
       "      <td>1985.0</td>\n",
       "      <td>40.24</td>\n",
       "    </tr>\n",
       "    <tr>\n",
       "      <th>2</th>\n",
       "      <td>3</td>\n",
       "      <td>Mario Kart Wii</td>\n",
       "      <td>Wii</td>\n",
       "      <td>2008.0</td>\n",
       "      <td>35.82</td>\n",
       "    </tr>\n",
       "    <tr>\n",
       "      <th>3</th>\n",
       "      <td>4</td>\n",
       "      <td>Wii Sports Resort</td>\n",
       "      <td>Wii</td>\n",
       "      <td>2009.0</td>\n",
       "      <td>33.00</td>\n",
       "    </tr>\n",
       "    <tr>\n",
       "      <th>4</th>\n",
       "      <td>5</td>\n",
       "      <td>Pokemon Red/Pokemon Blue</td>\n",
       "      <td>GB</td>\n",
       "      <td>1996.0</td>\n",
       "      <td>31.37</td>\n",
       "    </tr>\n",
       "    <tr>\n",
       "      <th>5</th>\n",
       "      <td>6</td>\n",
       "      <td>Tetris</td>\n",
       "      <td>GB</td>\n",
       "      <td>1989.0</td>\n",
       "      <td>30.26</td>\n",
       "    </tr>\n",
       "    <tr>\n",
       "      <th>6</th>\n",
       "      <td>7</td>\n",
       "      <td>New Super Mario Bros.</td>\n",
       "      <td>DS</td>\n",
       "      <td>2006.0</td>\n",
       "      <td>30.01</td>\n",
       "    </tr>\n",
       "    <tr>\n",
       "      <th>7</th>\n",
       "      <td>8</td>\n",
       "      <td>Wii Play</td>\n",
       "      <td>Wii</td>\n",
       "      <td>2006.0</td>\n",
       "      <td>29.02</td>\n",
       "    </tr>\n",
       "    <tr>\n",
       "      <th>8</th>\n",
       "      <td>9</td>\n",
       "      <td>New Super Mario Bros. Wii</td>\n",
       "      <td>Wii</td>\n",
       "      <td>2009.0</td>\n",
       "      <td>28.62</td>\n",
       "    </tr>\n",
       "    <tr>\n",
       "      <th>9</th>\n",
       "      <td>10</td>\n",
       "      <td>Duck Hunt</td>\n",
       "      <td>NES</td>\n",
       "      <td>1984.0</td>\n",
       "      <td>28.31</td>\n",
       "    </tr>\n",
       "    <tr>\n",
       "      <th>10</th>\n",
       "      <td>11</td>\n",
       "      <td>Nintendogs</td>\n",
       "      <td>DS</td>\n",
       "      <td>2005.0</td>\n",
       "      <td>24.76</td>\n",
       "    </tr>\n",
       "    <tr>\n",
       "      <th>11</th>\n",
       "      <td>12</td>\n",
       "      <td>Mario Kart DS</td>\n",
       "      <td>DS</td>\n",
       "      <td>2005.0</td>\n",
       "      <td>23.42</td>\n",
       "    </tr>\n",
       "    <tr>\n",
       "      <th>12</th>\n",
       "      <td>13</td>\n",
       "      <td>Pokemon Gold/Pokemon Silver</td>\n",
       "      <td>GB</td>\n",
       "      <td>1999.0</td>\n",
       "      <td>23.10</td>\n",
       "    </tr>\n",
       "    <tr>\n",
       "      <th>13</th>\n",
       "      <td>14</td>\n",
       "      <td>Wii Fit</td>\n",
       "      <td>Wii</td>\n",
       "      <td>2007.0</td>\n",
       "      <td>22.72</td>\n",
       "    </tr>\n",
       "    <tr>\n",
       "      <th>14</th>\n",
       "      <td>15</td>\n",
       "      <td>Wii Fit Plus</td>\n",
       "      <td>Wii</td>\n",
       "      <td>2009.0</td>\n",
       "      <td>22.00</td>\n",
       "    </tr>\n",
       "    <tr>\n",
       "      <th>15</th>\n",
       "      <td>16</td>\n",
       "      <td>Kinect Adventures!</td>\n",
       "      <td>X360</td>\n",
       "      <td>2010.0</td>\n",
       "      <td>21.82</td>\n",
       "    </tr>\n",
       "    <tr>\n",
       "      <th>16</th>\n",
       "      <td>17</td>\n",
       "      <td>Grand Theft Auto V</td>\n",
       "      <td>PS3</td>\n",
       "      <td>2013.0</td>\n",
       "      <td>21.40</td>\n",
       "    </tr>\n",
       "    <tr>\n",
       "      <th>17</th>\n",
       "      <td>18</td>\n",
       "      <td>Grand Theft Auto: San Andreas</td>\n",
       "      <td>PS2</td>\n",
       "      <td>2004.0</td>\n",
       "      <td>20.81</td>\n",
       "    </tr>\n",
       "    <tr>\n",
       "      <th>18</th>\n",
       "      <td>19</td>\n",
       "      <td>Super Mario World</td>\n",
       "      <td>SNES</td>\n",
       "      <td>1990.0</td>\n",
       "      <td>20.61</td>\n",
       "    </tr>\n",
       "    <tr>\n",
       "      <th>19</th>\n",
       "      <td>20</td>\n",
       "      <td>Brain Age: Train Your Brain in Minutes a Day</td>\n",
       "      <td>DS</td>\n",
       "      <td>2005.0</td>\n",
       "      <td>20.22</td>\n",
       "    </tr>\n",
       "  </tbody>\n",
       "</table>\n",
       "</div>"
      ],
      "text/plain": [
       "    Rank                                          Name Platform    Year  \\\n",
       "0      1                                    Wii Sports      Wii  2006.0   \n",
       "1      2                             Super Mario Bros.      NES  1985.0   \n",
       "2      3                                Mario Kart Wii      Wii  2008.0   \n",
       "3      4                             Wii Sports Resort      Wii  2009.0   \n",
       "4      5                      Pokemon Red/Pokemon Blue       GB  1996.0   \n",
       "5      6                                        Tetris       GB  1989.0   \n",
       "6      7                         New Super Mario Bros.       DS  2006.0   \n",
       "7      8                                      Wii Play      Wii  2006.0   \n",
       "8      9                     New Super Mario Bros. Wii      Wii  2009.0   \n",
       "9     10                                     Duck Hunt      NES  1984.0   \n",
       "10    11                                    Nintendogs       DS  2005.0   \n",
       "11    12                                 Mario Kart DS       DS  2005.0   \n",
       "12    13                   Pokemon Gold/Pokemon Silver       GB  1999.0   \n",
       "13    14                                       Wii Fit      Wii  2007.0   \n",
       "14    15                                  Wii Fit Plus      Wii  2009.0   \n",
       "15    16                            Kinect Adventures!     X360  2010.0   \n",
       "16    17                            Grand Theft Auto V      PS3  2013.0   \n",
       "17    18                 Grand Theft Auto: San Andreas      PS2  2004.0   \n",
       "18    19                             Super Mario World     SNES  1990.0   \n",
       "19    20  Brain Age: Train Your Brain in Minutes a Day       DS  2005.0   \n",
       "\n",
       "    Global_Sales  \n",
       "0          82.74  \n",
       "1          40.24  \n",
       "2          35.82  \n",
       "3          33.00  \n",
       "4          31.37  \n",
       "5          30.26  \n",
       "6          30.01  \n",
       "7          29.02  \n",
       "8          28.62  \n",
       "9          28.31  \n",
       "10         24.76  \n",
       "11         23.42  \n",
       "12         23.10  \n",
       "13         22.72  \n",
       "14         22.00  \n",
       "15         21.82  \n",
       "16         21.40  \n",
       "17         20.81  \n",
       "18         20.61  \n",
       "19         20.22  "
      ]
     },
     "execution_count": 6,
     "metadata": {},
     "output_type": "execute_result"
    }
   ],
   "source": [
    "high_gross = df[['Rank', 'Name', 'Platform', 'Year', 'Global_Sales']].sort_values('Global_Sales', ascending= False)\n",
    "top_twenty_highest_grossing_games = high_gross.head(20)\n",
    "top_twenty_highest_grossing_games"
   ]
  },
  {
   "cell_type": "markdown",
   "id": "a16aa118-3d89-44cc-8fdc-fea3d51e2a88",
   "metadata": {},
   "source": [
    "## 5. For North American video game sales, what’s the median?\n",
    " ### Provide a secondary output showing ten games surrounding the median sales output\n",
    "   #### assume that games with same median value are sorted in descending order"
   ]
  },
  {
   "cell_type": "code",
   "execution_count": 7,
   "id": "8da15a37-fd48-4d03-b0aa-4c73a723a806",
   "metadata": {},
   "outputs": [
    {
     "data": {
      "text/html": [
       "<div>\n",
       "<style scoped>\n",
       "    .dataframe tbody tr th:only-of-type {\n",
       "        vertical-align: middle;\n",
       "    }\n",
       "\n",
       "    .dataframe tbody tr th {\n",
       "        vertical-align: top;\n",
       "    }\n",
       "\n",
       "    .dataframe thead th {\n",
       "        text-align: right;\n",
       "    }\n",
       "</style>\n",
       "<table border=\"1\" class=\"dataframe\">\n",
       "  <thead>\n",
       "    <tr style=\"text-align: right;\">\n",
       "      <th></th>\n",
       "      <th>Rank</th>\n",
       "      <th>Name</th>\n",
       "      <th>Platform</th>\n",
       "      <th>Year</th>\n",
       "      <th>NA_Sales</th>\n",
       "    </tr>\n",
       "  </thead>\n",
       "  <tbody>\n",
       "    <tr>\n",
       "      <th>11492</th>\n",
       "      <td>11494</td>\n",
       "      <td>Ultimate Shooting Collection</td>\n",
       "      <td>Wii</td>\n",
       "      <td>2008.0</td>\n",
       "      <td>0.08</td>\n",
       "    </tr>\n",
       "    <tr>\n",
       "      <th>11455</th>\n",
       "      <td>11457</td>\n",
       "      <td>The Hidden</td>\n",
       "      <td>3DS</td>\n",
       "      <td>NaN</td>\n",
       "      <td>0.08</td>\n",
       "    </tr>\n",
       "    <tr>\n",
       "      <th>11432</th>\n",
       "      <td>11434</td>\n",
       "      <td>DanceDanceRevolution</td>\n",
       "      <td>X360</td>\n",
       "      <td>2011.0</td>\n",
       "      <td>0.08</td>\n",
       "    </tr>\n",
       "    <tr>\n",
       "      <th>11431</th>\n",
       "      <td>11433</td>\n",
       "      <td>Little League World Series Baseball: Double Play</td>\n",
       "      <td>DS</td>\n",
       "      <td>2010.0</td>\n",
       "      <td>0.08</td>\n",
       "    </tr>\n",
       "    <tr>\n",
       "      <th>11403</th>\n",
       "      <td>11405</td>\n",
       "      <td>My English Coach: Para Hispanoparlantes</td>\n",
       "      <td>DS</td>\n",
       "      <td>2009.0</td>\n",
       "      <td>0.08</td>\n",
       "    </tr>\n",
       "    <tr>\n",
       "      <th>11390</th>\n",
       "      <td>11392</td>\n",
       "      <td>Super Robot Taisen OG Saga: Endless Frontier</td>\n",
       "      <td>DS</td>\n",
       "      <td>2008.0</td>\n",
       "      <td>0.08</td>\n",
       "    </tr>\n",
       "    <tr>\n",
       "      <th>11386</th>\n",
       "      <td>11388</td>\n",
       "      <td>Sushi Academy</td>\n",
       "      <td>DS</td>\n",
       "      <td>2009.0</td>\n",
       "      <td>0.08</td>\n",
       "    </tr>\n",
       "    <tr>\n",
       "      <th>11376</th>\n",
       "      <td>11378</td>\n",
       "      <td>Face Racers: Photo Finish</td>\n",
       "      <td>3DS</td>\n",
       "      <td>NaN</td>\n",
       "      <td>0.08</td>\n",
       "    </tr>\n",
       "    <tr>\n",
       "      <th>11375</th>\n",
       "      <td>11377</td>\n",
       "      <td>Dream Day: Wedding Destinations</td>\n",
       "      <td>DS</td>\n",
       "      <td>2009.0</td>\n",
       "      <td>0.08</td>\n",
       "    </tr>\n",
       "    <tr>\n",
       "      <th>11371</th>\n",
       "      <td>11373</td>\n",
       "      <td>Death Jr. and the Science Fair of Doom</td>\n",
       "      <td>DS</td>\n",
       "      <td>2007.0</td>\n",
       "      <td>0.08</td>\n",
       "    </tr>\n",
       "  </tbody>\n",
       "</table>\n",
       "</div>"
      ],
      "text/plain": [
       "        Rank                                              Name Platform  \\\n",
       "11492  11494                      Ultimate Shooting Collection      Wii   \n",
       "11455  11457                                        The Hidden      3DS   \n",
       "11432  11434                              DanceDanceRevolution     X360   \n",
       "11431  11433  Little League World Series Baseball: Double Play       DS   \n",
       "11403  11405           My English Coach: Para Hispanoparlantes       DS   \n",
       "11390  11392      Super Robot Taisen OG Saga: Endless Frontier       DS   \n",
       "11386  11388                                     Sushi Academy       DS   \n",
       "11376  11378                         Face Racers: Photo Finish      3DS   \n",
       "11375  11377                   Dream Day: Wedding Destinations       DS   \n",
       "11371  11373            Death Jr. and the Science Fair of Doom       DS   \n",
       "\n",
       "         Year  NA_Sales  \n",
       "11492  2008.0      0.08  \n",
       "11455     NaN      0.08  \n",
       "11432  2011.0      0.08  \n",
       "11431  2010.0      0.08  \n",
       "11403  2009.0      0.08  \n",
       "11390  2008.0      0.08  \n",
       "11386  2009.0      0.08  \n",
       "11376     NaN      0.08  \n",
       "11375  2009.0      0.08  \n",
       "11371  2007.0      0.08  "
      ]
     },
     "execution_count": 7,
     "metadata": {},
     "output_type": "execute_result"
    }
   ],
   "source": [
    "dfmedianNa = df['NA_Sales'].median()\n",
    "dfmedianNa\n",
    "\n",
    "ten_games = df[df['NA_Sales'] == dfmedianNa][['Rank', 'Name', 'Platform', 'Year', 'NA_Sales']]\n",
    "ten_games.sort_values('Rank', ascending = False).head(10)"
   ]
  },
  {
   "cell_type": "markdown",
   "id": "896eef54-119e-4935-ada2-479068728cc1",
   "metadata": {},
   "source": [
    "## 6. For the top-selling game of all time, how many standard deviations above/below the mean are its sales for North America?"
   ]
  },
  {
   "cell_type": "code",
   "execution_count": 8,
   "id": "aac1ac81-11ad-4aa4-b638-4717d5395ab1",
   "metadata": {},
   "outputs": [
    {
     "data": {
      "text/plain": [
       "50.47898767479108"
      ]
     },
     "execution_count": 8,
     "metadata": {},
     "output_type": "execute_result"
    }
   ],
   "source": [
    "highest = df['NA_Sales'].head(1)\n",
    "mean = df['NA_Sales'].mean()\n",
    "std = df['NA_Sales'].std()\n",
    "na_median_sales = (highest - mean)/std\n",
    "na_median_sales[0]"
   ]
  },
  {
   "cell_type": "markdown",
   "id": "87e6c375-d893-4753-9872-2cf2a6951dc9",
   "metadata": {},
   "source": [
    "## 7. The Nintendo Wii seems to have outdone itself with games. How does its average number of sales compare with all of the other platforms?"
   ]
  },
  {
   "cell_type": "code",
   "execution_count": 9,
   "id": "e583c51b-1d07-48b5-9eb8-6208f7a86fdc",
   "metadata": {},
   "outputs": [
    {
     "data": {
      "text/plain": [
       "Platform\n",
       "False    0.523390\n",
       "True     0.699404\n",
       "Name: Global_Sales, dtype: float64"
      ]
     },
     "execution_count": 9,
     "metadata": {},
     "output_type": "execute_result"
    }
   ],
   "source": [
    "nin_wii = df.groupby(df[\"Platform\"] == 'Wii')[\"Global_Sales\"].mean()\n",
    "nin_wii"
   ]
  },
  {
   "cell_type": "markdown",
   "id": "b5a3c9e4-b241-4a5f-bc5e-1e7992f7422b",
   "metadata": {},
   "source": [
    "## 8. What is the most selling game globally?"
   ]
  },
  {
   "cell_type": "code",
   "execution_count": 10,
   "id": "f9de085f-a3cb-4020-966d-7254d0ca32f8",
   "metadata": {},
   "outputs": [
    {
     "data": {
      "text/plain": [
       "Global_Sales                           82.74\n",
       "Name            ¡Shin Chan Flipa en colores!\n",
       "dtype: object"
      ]
     },
     "execution_count": 10,
     "metadata": {},
     "output_type": "execute_result"
    }
   ],
   "source": [
    "sell = df[['Global_Sales', 'Name']].max()\n",
    "sell"
   ]
  },
  {
   "cell_type": "markdown",
   "id": "af643e9a-fae1-445e-bc99-3217f1b53207",
   "metadata": {},
   "source": [
    "## 9. Give me a random game name"
   ]
  },
  {
   "cell_type": "code",
   "execution_count": 11,
   "id": "2ccea48e-57dd-48c0-9287-d075565c0e5e",
   "metadata": {},
   "outputs": [
    {
     "data": {
      "text/plain": [
       "'Super Momotarou Dentetsu III'"
      ]
     },
     "execution_count": 11,
     "metadata": {},
     "output_type": "execute_result"
    }
   ],
   "source": [
    "idxnum = (df[\"Rank\"]-1).max()\n",
    "randata = np.random.randint(0, idxnum)\n",
    "game = df.iloc[randata]['Name']\n",
    "game\n"
   ]
  },
  {
   "cell_type": "markdown",
   "id": "c009c91f-73fc-4667-ad0d-7bc2f293b082",
   "metadata": {},
   "source": [
    "## 10. Sort PS3 games in descending order Accourding to Year"
   ]
  },
  {
   "cell_type": "code",
   "execution_count": 12,
   "id": "32c0e0df-50e4-4378-9495-501bdd62a1ec",
   "metadata": {},
   "outputs": [
    {
     "data": {
      "text/html": [
       "<div>\n",
       "<style scoped>\n",
       "    .dataframe tbody tr th:only-of-type {\n",
       "        vertical-align: middle;\n",
       "    }\n",
       "\n",
       "    .dataframe tbody tr th {\n",
       "        vertical-align: top;\n",
       "    }\n",
       "\n",
       "    .dataframe thead th {\n",
       "        text-align: right;\n",
       "    }\n",
       "</style>\n",
       "<table border=\"1\" class=\"dataframe\">\n",
       "  <thead>\n",
       "    <tr style=\"text-align: right;\">\n",
       "      <th></th>\n",
       "      <th>Name</th>\n",
       "      <th>Platform</th>\n",
       "      <th>Year</th>\n",
       "    </tr>\n",
       "  </thead>\n",
       "  <tbody>\n",
       "    <tr>\n",
       "      <th>15566</th>\n",
       "      <td>TV Anime Idolm@ster: Cinderella Girls G4U! Pac...</td>\n",
       "      <td>PS3</td>\n",
       "      <td>2016.0</td>\n",
       "    </tr>\n",
       "    <tr>\n",
       "      <th>9904</th>\n",
       "      <td>Dragon Quest Builders: Revive Alefgard</td>\n",
       "      <td>PS3</td>\n",
       "      <td>2016.0</td>\n",
       "    </tr>\n",
       "    <tr>\n",
       "      <th>10156</th>\n",
       "      <td>Jikkyou Powerful Pro Baseball 2016</td>\n",
       "      <td>PS3</td>\n",
       "      <td>2016.0</td>\n",
       "    </tr>\n",
       "    <tr>\n",
       "      <th>13492</th>\n",
       "      <td>Rugby Challenge 3</td>\n",
       "      <td>PS3</td>\n",
       "      <td>2016.0</td>\n",
       "    </tr>\n",
       "    <tr>\n",
       "      <th>10040</th>\n",
       "      <td>UEFA Euro 2016</td>\n",
       "      <td>PS3</td>\n",
       "      <td>2016.0</td>\n",
       "    </tr>\n",
       "    <tr>\n",
       "      <th>...</th>\n",
       "      <td>...</td>\n",
       "      <td>...</td>\n",
       "      <td>...</td>\n",
       "    </tr>\n",
       "    <tr>\n",
       "      <th>13156</th>\n",
       "      <td>The History Channel: Great Battles - Medieval</td>\n",
       "      <td>PS3</td>\n",
       "      <td>NaN</td>\n",
       "    </tr>\n",
       "    <tr>\n",
       "      <th>13278</th>\n",
       "      <td>Monster Hunter Frontier Online</td>\n",
       "      <td>PS3</td>\n",
       "      <td>NaN</td>\n",
       "    </tr>\n",
       "    <tr>\n",
       "      <th>14942</th>\n",
       "      <td>Umineko no Naku Koro ni San: Shinjitsu to Gens...</td>\n",
       "      <td>PS3</td>\n",
       "      <td>NaN</td>\n",
       "    </tr>\n",
       "    <tr>\n",
       "      <th>16246</th>\n",
       "      <td>Agarest Senki: Re-appearance</td>\n",
       "      <td>PS3</td>\n",
       "      <td>NaN</td>\n",
       "    </tr>\n",
       "    <tr>\n",
       "      <th>16366</th>\n",
       "      <td>Hakuouki: Shinsengumi Kitan</td>\n",
       "      <td>PS3</td>\n",
       "      <td>NaN</td>\n",
       "    </tr>\n",
       "  </tbody>\n",
       "</table>\n",
       "<p>1329 rows × 3 columns</p>\n",
       "</div>"
      ],
      "text/plain": [
       "                                                    Name Platform    Year\n",
       "15566  TV Anime Idolm@ster: Cinderella Girls G4U! Pac...      PS3  2016.0\n",
       "9904              Dragon Quest Builders: Revive Alefgard      PS3  2016.0\n",
       "10156                 Jikkyou Powerful Pro Baseball 2016      PS3  2016.0\n",
       "13492                                  Rugby Challenge 3      PS3  2016.0\n",
       "10040                                     UEFA Euro 2016      PS3  2016.0\n",
       "...                                                  ...      ...     ...\n",
       "13156      The History Channel: Great Battles - Medieval      PS3     NaN\n",
       "13278                     Monster Hunter Frontier Online      PS3     NaN\n",
       "14942  Umineko no Naku Koro ni San: Shinjitsu to Gens...      PS3     NaN\n",
       "16246                       Agarest Senki: Re-appearance      PS3     NaN\n",
       "16366                        Hakuouki: Shinsengumi Kitan      PS3     NaN\n",
       "\n",
       "[1329 rows x 3 columns]"
      ]
     },
     "execution_count": 12,
     "metadata": {},
     "output_type": "execute_result"
    }
   ],
   "source": [
    "PS3 = df[df['Platform'] == 'PS3'][['Name', 'Platform', 'Year']].sort_values(\"Year\", ascending=False)\n",
    "PS3"
   ]
  },
  {
   "cell_type": "code",
   "execution_count": 13,
   "id": "72379e09-b954-40d6-bb33-2529a1aa871e",
   "metadata": {},
   "outputs": [
    {
     "name": "stdout",
     "output_type": "stream",
     "text": [
      "Success!!!\n"
     ]
    }
   ],
   "source": [
    "def test():\n",
    "\n",
    "    def assert_equal(actual,expected):\n",
    "        assert actual == expected, f\"Expected {expected} but got {actual}\"\n",
    "\n",
    "    assert_equal(dfPub, 'Electronic Arts')\n",
    "    assert_equal(most_platform, 'DS')\n",
    "    assert_equal(most_genre, 'Action')\n",
    "    assert_equal(top_twenty_highest_grossing_games.iloc[0].Name, 'Wii Sports')\n",
    "    assert_equal(top_twenty_highest_grossing_games.iloc[19].Name, 'Brain Age: Train Your Brain in Minutes a Day')\n",
    "    assert_equal(na_median_sales[0], 50.47898767479108)\n",
    "\n",
    "    print(\"Success!!!\")\n",
    "\n",
    "test()"
   ]
  },
  {
   "cell_type": "code",
   "execution_count": null,
   "id": "1cc8c6f9-7d52-4fa8-a291-125991f1eca0",
   "metadata": {},
   "outputs": [],
   "source": []
  }
 ],
 "metadata": {
  "kernelspec": {
   "display_name": "Python 3",
   "language": "python",
   "name": "python3"
  },
  "language_info": {
   "codemirror_mode": {
    "name": "ipython",
    "version": 3
   },
   "file_extension": ".py",
   "mimetype": "text/x-python",
   "name": "python",
   "nbconvert_exporter": "python",
   "pygments_lexer": "ipython3",
   "version": "3.9.4"
  }
 },
 "nbformat": 4,
 "nbformat_minor": 5
}
